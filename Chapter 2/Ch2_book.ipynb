{
 "cells": [
  {
   "cell_type": "markdown",
   "metadata": {},
   "source": [
    "# Chaper 2 - N-armed Bandits\n",
    "### Deep Reinforcement Learning _in Action_"
   ]
  },
  {
   "cell_type": "markdown",
   "metadata": {},
   "source": [
    "##### Listing 2.1"
   ]
  },
  {
   "cell_type": "code",
   "execution_count": 1,
   "metadata": {},
   "outputs": [],
   "source": [
    "# 가장 value가 높은 액션을 구하기 \n",
    "def get_best_action(actions):\n",
    "\tbest_action = 0\n",
    "\tmax_action_value = 0\n",
    "\tfor i in range(len(actions)): #A \n",
    "\t\t# get_action_value() 함수로 action 마다 비교 \n",
    "\t\tcur_action_value = get_action_value(actions[i]) #B\n",
    "\t\tif cur_action_value > max_action_value:\n",
    "\t\t\tbest_action = i\n",
    "\t\t\tmax_action_value = cur_action_value\n",
    "\treturn best_action"
   ]
  },
  {
   "cell_type": "markdown",
   "metadata": {},
   "source": [
    "##### Listing 2.2"
   ]
  },
  {
   "cell_type": "code",
   "execution_count": 4,
   "metadata": {},
   "outputs": [
    {
     "name": "stdout",
     "output_type": "stream",
     "text": [
      "probs: [0.29653091 0.05201163 0.34136635 0.10372897 0.78074323 0.94814189\n",
      " 0.16257987 0.29703456 0.75912937 0.06543763]\n"
     ]
    }
   ],
   "source": [
    "import numpy as np\n",
    "from scipy import stats\n",
    "import random\n",
    "import matplotlib.pyplot as plt\n",
    "\n",
    "n = 10  # 슬롯머신 팔의 수 \n",
    "probs = np.random.rand(n) #A  각 팔과 연관된 확률\n",
    "print(\"probs:\", probs)\n",
    "eps = 0.1  # 탐험할 확률 "
   ]
  },
  {
   "cell_type": "markdown",
   "metadata": {},
   "source": [
    "##### Listing 2.3"
   ]
  },
  {
   "cell_type": "code",
   "execution_count": 3,
   "metadata": {},
   "outputs": [],
   "source": [
    "def get_reward(prob, n=10):\n",
    "    reward = 0;\n",
    "    for i in range(n):\n",
    "        if random.random() < prob:\n",
    "            reward += 1\n",
    "    return reward"
   ]
  },
  {
   "cell_type": "code",
   "execution_count": 9,
   "metadata": {},
   "outputs": [
    {
     "name": "stdout",
     "output_type": "stream",
     "text": [
      "reward_test: [7, 8, 5, 9, 10, 7, 7, 7, 7, 6, 9, 8, 9, 7, 8, 7, 9, 8, 6, 6, 7, 5, 8, 7, 7, 7, 6, 7, 7, 6, 5, 7, 5, 9, 7, 6, 8, 7, 7, 8, 9, 7, 8, 8, 7, 8, 7, 8, 9, 9, 10, 8, 7, 7, 8, 7, 7, 7, 6, 8, 4, 7, 8, 5, 8, 7, 7, 9, 9, 6, 8, 6, 8, 9, 6, 9, 6, 7, 6, 7, 9, 6, 6, 4, 5, 7, 7, 10, 6, 7, 8, 7, 7, 9, 8, 4, 7, 8, 9, 7, 6, 8, 9, 9, 9, 8, 10, 9, 6, 9, 8, 7, 7, 9, 6, 5, 9, 8, 8, 6, 6, 6, 4, 7, 5, 7, 7, 8, 9, 8, 7, 6, 7, 7, 7, 7, 8, 7, 9, 8, 6, 7, 7, 5, 7, 6, 8, 8, 10, 8, 7, 7, 8, 7, 7, 6, 7, 4, 9, 7, 8, 9, 6, 9, 7, 8, 6, 5, 6, 6, 6, 7, 6, 6, 5, 6, 9, 9, 7, 7, 7, 8, 6, 8, 7, 5, 7, 6, 7, 7, 7, 6, 9, 7, 6, 6, 6, 9, 8, 7, 6, 6, 7, 6, 7, 5, 5, 6, 8, 3, 5, 7, 6, 7, 5, 8, 7, 8, 4, 8, 7, 6, 8, 7, 6, 9, 8, 10, 9, 8, 9, 8, 7, 6, 4, 5, 9, 8, 5, 7, 8, 6, 9, 6, 7, 6, 6, 6, 8, 6, 9, 8, 6, 8, 6, 7, 6, 7, 7, 9, 9, 6, 8, 9, 8, 5, 6, 7, 4, 9, 5, 8, 8, 8, 7, 9, 7, 4, 9, 7, 8, 7, 4, 9, 7, 8, 7, 8, 4, 6, 9, 6, 10, 7, 8, 5, 6, 5, 7, 8, 4, 7, 9, 7, 4, 7, 9, 6, 8, 8, 8, 7, 5, 9, 9, 8, 6, 8, 6, 4, 7, 7, 6, 7, 6, 7, 8, 8, 8, 7, 7, 6, 8, 9, 4, 9, 6, 5, 9, 7, 5, 8, 4, 6, 7, 9, 7, 5, 6, 8, 7, 7, 7, 10, 9, 9, 9, 6, 8, 8, 9, 7, 7, 7, 8, 9, 7, 6, 7, 8, 5, 5, 9, 7, 8, 8, 6, 7, 9, 5, 9, 5, 6, 6, 8, 9, 7, 7, 6, 7, 8, 7, 7, 4, 7, 8, 6, 6, 10, 8, 7, 7, 9, 6, 7, 8, 7, 8, 8, 7, 8, 7, 9, 5, 6, 5, 7, 7, 6, 7, 9, 9, 7, 7, 5, 6, 9, 8, 9, 6, 9, 7, 7, 7, 5, 8, 8, 9, 7, 5, 6, 7, 7, 3, 8, 6, 4, 6, 7, 4, 7, 5, 9, 8, 8, 8, 7, 8, 7, 6, 5, 9, 6, 5, 8, 7, 5, 8, 6, 8, 9, 5, 10, 5, 7, 8, 7, 6, 10, 6, 9, 9, 10, 8, 8, 6, 8, 8, 6, 7, 6, 6, 8, 7, 8, 7, 8, 8, 7, 9, 7, 7, 6, 6, 8, 5, 8, 9, 9, 6, 3, 7, 6, 4, 8, 8, 6, 7, 6, 7, 7, 7, 7, 7, 7, 9, 4, 5, 7, 6, 7, 9, 9, 4, 6, 8, 7, 7, 8, 9, 5, 7, 8, 7, 7, 7, 5, 4, 7, 4, 7, 7, 7, 7, 7, 5, 3, 7, 8, 7, 8, 9, 7, 6, 9, 6, 8, 6, 5, 9, 5, 7, 3, 9, 3, 8, 7, 9, 9, 6, 5, 8, 8, 7, 5, 8, 8, 8, 9, 8, 7, 6, 6, 7, 5, 8, 9, 7, 9, 6, 4, 6, 7, 9, 8, 8, 4, 4, 9, 9, 3, 10, 7, 4, 7, 8, 6, 5, 5, 6, 9, 5, 6, 6, 5, 8, 5, 9, 10, 9, 7, 6, 7, 5, 5, 6, 5, 7, 9, 6, 9, 5, 9, 9, 6, 6, 5, 9, 6, 7, 8, 9, 7, 7, 6, 6, 9, 8, 8, 9, 6, 6, 5, 8, 7, 5, 8, 6, 7, 9, 4, 7, 5, 7, 8, 6, 6, 5, 10, 5, 5, 4, 7, 6, 6, 7, 7, 6, 6, 4, 6, 7, 7, 7, 9, 6, 8, 8, 7, 8, 10, 5, 9, 7, 8, 9, 7, 7, 8, 6, 5, 9, 8, 7, 7, 8, 7, 7, 8, 7, 8, 7, 7, 6, 8, 9, 5, 7, 7, 5, 7, 7, 8, 8, 6, 9, 6, 6, 3, 5, 7, 7, 9, 9, 8, 8, 4, 8, 4, 6, 6, 8, 7, 7, 8, 4, 7, 8, 6, 7, 9, 7, 8, 4, 6, 9, 8, 6, 7, 8, 7, 7, 9, 6, 4, 8, 6, 8, 7, 6, 4, 8, 6, 7, 8, 7, 8, 9, 8, 5, 7, 8, 8, 6, 8, 8, 7, 6, 8, 8, 8, 5, 5, 5, 7, 7, 8, 9, 7, 7, 10, 6, 7, 8, 9, 6, 9, 7, 7, 7, 8, 5, 8, 8, 7, 8, 8, 7, 7, 7, 8, 8, 7, 6, 9, 6, 8, 8, 6, 7, 7, 7, 7, 7, 8, 5, 7, 8, 8, 7, 6, 9, 6, 6, 6, 7, 8, 8, 7, 6, 9, 8, 5, 7, 7, 7, 7, 7, 9, 7, 8, 5, 4, 7, 8, 8, 9, 9, 8, 5, 6, 7, 7, 7, 6, 6, 8, 7, 8, 7, 5, 9, 7, 8, 9, 9, 8, 7, 8, 8, 4, 8, 10, 7, 8, 8, 8, 6, 6, 8, 5, 6, 7, 5, 7, 9, 9, 6, 6, 8, 6, 8, 8, 9, 7, 7, 9, 9, 8, 8, 7, 6, 4, 10, 8, 10, 8, 8, 6, 5, 5, 6, 6, 8, 6, 8, 7, 8, 6, 6, 10, 7, 9, 7, 9, 7, 7, 7, 7, 7, 6, 5, 8, 7, 6, 6, 8, 8, 8, 7, 7, 7, 4, 9, 7, 8, 8, 5, 9, 6, 8, 7, 7, 8, 5, 7, 8, 9, 7, 7, 7, 8, 8, 6, 7, 9, 8, 7, 5, 8, 8, 5, 6, 9, 6, 3, 8, 5, 5, 10, 10, 4, 8, 7, 7, 7, 7, 6, 6, 5, 8, 6, 6, 7, 7, 8, 4, 7, 7, 6, 8, 6, 9, 6, 8, 7, 7, 8, 8, 7, 7, 5, 6, 6, 7, 7, 9, 9, 8, 5, 6, 8, 6, 7, 7, 5, 6, 8, 9, 8, 4, 7, 6, 6, 9, 7, 7, 5, 8, 8, 6, 6, 6, 7, 5, 8, 8, 10, 8, 5, 7, 6, 5, 8, 6, 9, 7, 6, 4, 5, 6, 8, 7, 7, 5, 7, 7, 7, 7, 8, 7, 6, 7, 6, 7, 6, 7, 6, 9, 5, 8, 5, 6, 4, 8, 7, 6, 9, 7, 7, 7, 8, 8, 8, 7, 7, 7, 5, 4, 6, 7, 8, 7, 8, 5, 8, 7, 9, 7, 9, 5, 6, 8, 10, 6, 9, 8, 6, 7, 7, 7, 5, 7, 8, 8, 7, 6, 7, 6, 8, 10, 8, 8, 5, 5, 9, 10, 8, 7, 8, 5, 8, 4, 5, 7, 7, 8, 6, 3, 9, 8, 8, 4, 4, 8, 7, 8, 7, 6, 7, 8, 6, 7, 7, 6, 8, 9, 5, 6, 8, 7, 6, 8, 7, 8, 8, 8, 5, 7, 6, 10, 7, 7, 8, 6, 7, 6, 9, 8, 6, 9, 8, 8, 6, 7, 9, 4, 7, 4, 5, 7, 8, 7, 6, 5, 9, 9, 5, 8, 7, 7, 8, 8, 6, 4, 5, 7, 6, 9, 5, 5, 6, 6, 8, 8, 5, 8, 8, 6, 6, 7, 8, 5, 7, 6, 7, 7, 8, 8, 7, 5, 7, 8, 8, 7, 8, 7, 8, 6, 7, 8, 7, 9, 8, 9, 6, 5, 6, 9, 7, 5, 9, 7, 8, 5, 7, 5, 9, 5, 9, 4, 6, 8, 6, 8, 8, 5, 7, 7, 6, 8, 8, 6, 7, 7, 10, 7, 7, 5, 6, 10, 7, 5, 9, 5, 8, 5, 5, 7, 7, 6, 10, 8, 4, 3, 7, 7, 7, 5, 6, 9, 7, 9, 9, 10, 9, 7, 7, 8, 9, 8, 9, 10, 7, 6, 8, 6, 4, 7, 9, 8, 6, 9, 8, 6, 7, 8, 6, 10, 6, 9, 8, 7, 8, 9, 9, 5, 9, 7, 6, 5, 5, 9, 7, 8, 7, 7, 9, 8, 8, 8, 3, 8, 8, 7, 7, 5, 9, 9, 6, 6, 6, 5, 7, 9, 6, 7, 5, 7, 6, 8, 6, 7, 8, 8, 8, 4, 6, 7, 3, 5, 10, 5, 9, 7, 10, 7, 8, 7, 5, 8, 8, 4, 7, 8, 7, 5, 7, 7, 5, 5, 6, 5, 9, 7, 8, 9, 9, 9, 8, 6, 9, 6, 6, 6, 6, 5, 8, 9, 8, 8, 6, 4, 8, 6, 6, 7, 8, 8, 6, 4, 6, 9, 8, 7, 6, 7, 5, 8, 8, 7, 10, 9, 6, 4, 6, 8, 8, 7, 7, 8, 7, 6, 10, 5, 9, 8, 6, 4, 10, 9, 8, 5, 7, 8, 8, 7, 8, 5, 7, 6, 5, 7, 7, 5, 7, 7, 9, 8, 5, 5, 8, 8, 6, 9, 6, 4, 8, 8, 5, 7, 10, 8, 8, 8, 9, 6, 6, 5, 9, 9, 10, 7, 9, 5, 10, 4, 7, 7, 8, 5, 8, 5, 6, 4, 7, 8, 6, 7, 8, 6, 7, 5, 10, 8, 8, 7, 6, 7, 9, 8, 5, 8, 10, 6, 9, 7, 6, 6, 8, 6, 8, 8, 8, 8, 8, 8, 6, 7, 8, 5, 8, 6, 9, 7, 7, 7, 5, 7, 8, 7, 6, 7, 7, 7, 7, 9, 5, 8, 5, 8, 8, 5, 9, 8, 9, 7, 5, 6, 6, 7, 10, 8, 10, 8, 6, 7, 7, 8, 6, 4, 5, 8, 7, 6, 10, 9, 9, 7, 7, 9, 9, 6, 4, 8, 6, 7, 7, 8, 9, 5, 8, 7, 8, 6, 7, 8, 5, 6, 6, 8, 7, 8, 8, 7, 7, 7, 6, 9, 9, 6, 4, 6, 7, 9, 7, 4, 3, 8, 9, 6, 9, 4, 7, 8, 5, 4, 8, 9, 7, 7, 6, 9, 5, 9, 8, 8, 7, 8, 6, 7, 10, 4, 8, 9, 7, 7, 7, 4, 6, 9, 7, 7, 10, 10, 7, 4, 6, 6, 8, 10, 6, 7, 9, 8, 6, 7, 8, 7, 7, 6, 6, 5, 9, 8, 9, 7, 7, 9, 7, 8, 5, 6, 8, 9, 7, 8, 7, 7, 8, 8, 6, 4, 8, 5, 8, 8, 8, 10, 7, 5, 6, 8, 6, 8, 7, 6, 9, 6, 8, 6, 9, 8, 9, 6, 7, 9, 9, 8, 7, 8, 7, 7, 8, 7, 5, 7, 6, 7, 5, 10, 7, 6, 9, 9, 7, 9, 6, 8, 5, 8, 7, 6, 8, 4, 9, 5, 9, 7, 8, 8, 6, 7, 5, 7, 9, 7, 9, 8, 7, 8, 6, 7, 10, 6, 8, 4, 8, 8, 7, 3, 10, 8, 8, 8, 8, 5, 8, 9, 6, 9, 5, 7, 5, 7, 7, 8, 6, 8, 10, 5, 10, 4, 9, 7, 10, 5, 5, 8, 7, 6, 7, 7, 6, 6, 5, 5, 8, 5, 9, 7, 4, 8, 7, 8, 9, 7, 6, 6, 7, 7, 9, 4, 5, 7, 7, 5, 7, 8, 8, 9, 6, 9, 6, 7, 8, 8, 5, 8, 10, 8, 8, 7, 5, 7, 7, 7, 8, 8, 8, 7, 7, 9, 6, 9, 8, 8, 6, 5, 7, 6, 6, 4, 4, 7, 5, 9, 6, 5, 9, 7, 6, 7, 5, 5, 4, 7, 10, 5, 6, 7, 9, 6, 9, 7, 9, 8, 10, 6, 7, 6, 8, 8, 8, 9, 8, 8, 9, 8, 7, 6, 6, 7, 7, 10, 7, 8, 6, 5, 6, 9, 6, 6, 8, 7, 9, 4, 6, 7, 5, 4, 8, 9, 9, 8, 8, 6, 7, 7, 8, 8, 8, 8, 8, 9, 5, 4, 8, 9, 6]\n"
     ]
    }
   ],
   "source": [
    "reward_test = [get_reward(0.7) for _ in range(2000)]\n",
    "print(\"reward_test:\", reward_test)"
   ]
  },
  {
   "cell_type": "code",
   "execution_count": 6,
   "metadata": {},
   "outputs": [
    {
     "data": {
      "text/plain": [
       "6.994"
      ]
     },
     "execution_count": 6,
     "metadata": {},
     "output_type": "execute_result"
    }
   ],
   "source": [
    "np.mean(reward_test)"
   ]
  },
  {
   "cell_type": "code",
   "execution_count": 7,
   "metadata": {},
   "outputs": [
    {
     "data": {
      "text/plain": [
       "22"
      ]
     },
     "execution_count": 7,
     "metadata": {},
     "output_type": "execute_result"
    }
   ],
   "source": [
    "sum = 0\n",
    "x = [4,5,6,7]\n",
    "for j in range(len(x)): \n",
    "\tsum = sum + x[j]\n",
    "sum"
   ]
  },
  {
   "cell_type": "code",
   "execution_count": 8,
   "metadata": {},
   "outputs": [
    {
     "data": {
      "text/plain": [
       "(array([  3.,  16.,  64., 228., 391., 550., 456., 226.,  66.]),\n",
       " array([ 2.        ,  2.88888889,  3.77777778,  4.66666667,  5.55555556,\n",
       "         6.44444444,  7.33333333,  8.22222222,  9.11111111, 10.        ]),\n",
       " <BarContainer object of 9 artists>)"
      ]
     },
     "execution_count": 8,
     "metadata": {},
     "output_type": "execute_result"
    },
    {
     "data": {
      "image/png": "[encoded data removed]",
      "text/plain": [
       "<Figure size 900x500 with 1 Axes>"
      ]
     },
     "metadata": {},
     "output_type": "display_data"
    }
   ],
   "source": [
    "plt.figure(figsize=(9,5))\n",
    "plt.xlabel(\"Reward\",fontsize=22)\n",
    "plt.ylabel(\"# Observations\",fontsize=22)\n",
    "plt.hist(reward_test,bins=9)"
   ]
  },
  {
   "cell_type": "markdown",
   "metadata": {},
   "source": [
    "##### Listing 2.4"
   ]
  },
  {
   "cell_type": "code",
   "execution_count": 10,
   "metadata": {},
   "outputs": [
    {
     "name": "stdout",
     "output_type": "stream",
     "text": [
      "[[0. 0.]\n",
      " [0. 0.]\n",
      " [0. 0.]\n",
      " [0. 0.]\n",
      " [0. 0.]\n",
      " [0. 0.]\n",
      " [0. 0.]\n",
      " [0. 0.]\n",
      " [0. 0.]\n",
      " [0. 0.]]\n"
     ]
    }
   ],
   "source": [
    "# 10 actions x 2 columns\n",
    "# Columns: Count #, Avg Reward\n",
    "record = np.zeros((n,2))\n",
    "print(record)"
   ]
  },
  {
   "cell_type": "code",
   "execution_count": 12,
   "metadata": {},
   "outputs": [],
   "source": [
    "def get_best_arm(record):\n",
    "    # 가장 큰 reward를 주는 arm을 선택 \n",
    "    arm_index = np.argmax(record[:,1],axis=0)\n",
    "    return arm_index"
   ]
  },
  {
   "cell_type": "code",
   "execution_count": 11,
   "metadata": {},
   "outputs": [],
   "source": [
    "def update_record(record,action,r):\n",
    "    # cnt * mean_reward = total_reward 이므로, 식을 이용해서 새로운 mean_reward를 업데이트\n",
    "    new_r = (record[action,0] * record[action,1] + r) / (record[action,0] + 1)\n",
    "    record[action,0] += 1\n",
    "    record[action,1] = new_r\n",
    "    return record"
   ]
  },
  {
   "cell_type": "markdown",
   "metadata": {},
   "source": [
    "##### Listing 2.5"
   ]
  },
  {
   "cell_type": "code",
   "execution_count": 13,
   "metadata": {},
   "outputs": [
    {
     "data": {
      "text/plain": [
       "<matplotlib.collections.PathCollection at 0x1e8944a8fd0>"
      ]
     },
     "execution_count": 13,
     "metadata": {},
     "output_type": "execute_result"
    },
    {
     "data": {
      "image/png": "[encoded data removed]",
      "text/plain": [
       "<Figure size 900x500 with 1 Axes>"
      ]
     },
     "metadata": {},
     "output_type": "display_data"
    }
   ],
   "source": [
    "fig,ax = plt.subplots(1,1)\n",
    "ax.set_xlabel(\"Plays\")\n",
    "ax.set_ylabel(\"Avg Reward\")\n",
    "fig.set_size_inches(9,5)\n",
    "rewards = [0]\n",
    "for i in range(500):\n",
    "    # 0.8의 확률로 greedy\n",
    "    if random.random() > 0.2:\n",
    "        choice = get_best_arm(record)\n",
    "    # 0.2의 확률로 탐험 \n",
    "    else:\n",
    "        choice = np.random.randint(10)\n",
    "    \n",
    "    # action으로 얻은 새로운 reward를 이용해서 업데이트 \n",
    "    r = get_reward(probs[choice])\n",
    "    record = update_record(record,choice,r)\n",
    "    mean_reward = ((i+1) * rewards[-1] + r)/(i+2)\n",
    "    rewards.append(mean_reward)\n",
    "ax.scatter(np.arange(len(rewards)),rewards)"
   ]
  },
  {
   "cell_type": "markdown",
   "metadata": {},
   "source": [
    "##### Listing 2.6"
   ]
  },
  {
   "cell_type": "code",
   "execution_count": 14,
   "metadata": {},
   "outputs": [],
   "source": [
    "# tau: temperature, 클수록 확률들이 비슷해진다. \n",
    "def softmax(av, tau=1.12):\n",
    "    softm = ( np.exp(av / tau) / np.sum( np.exp(av / tau) ) )\n",
    "    return softm"
   ]
  },
  {
   "cell_type": "code",
   "execution_count": 15,
   "metadata": {},
   "outputs": [],
   "source": [
    "probs = np.random.rand(n)\n",
    "record = np.zeros((n,2))"
   ]
  },
  {
   "cell_type": "code",
   "execution_count": 193,
   "metadata": {},
   "outputs": [
    {
     "data": {
      "text/plain": [
       "<matplotlib.collections.PathCollection at 0x123fbcb38>"
      ]
     },
     "execution_count": 193,
     "metadata": {},
     "output_type": "execute_result"
    },
    {
     "data": {
      "image/png": "[encoded data removed]",
      "text/plain": [
       "<Figure size 648x360 with 1 Axes>"
      ]
     },
     "metadata": {
      "needs_background": "light"
     },
     "output_type": "display_data"
    }
   ],
   "source": [
    "fig,ax = plt.subplots(1,1)\n",
    "ax.set_xlabel(\"Plays\")\n",
    "ax.set_ylabel(\"Avg Reward\")\n",
    "fig.set_size_inches(9,5)\n",
    "rewards = [0]\n",
    "for i in range(500):\n",
    "    # 주어진 action value를 이용해서 softmax 함수를 갱신 \n",
    "    p = softmax(record[:,1],tau=0.7)\n",
    "    # 확률 분포에 따라서 action을 정한다.\n",
    "    choice = np.random.choice(np.arange(n),p=p)\n",
    "    \n",
    "    r = get_reward(probs[choice])\n",
    "    record = update_record(record,choice,r)\n",
    "    mean_reward = ((i+1) * rewards[-1] + r)/(i+2)\n",
    "    rewards.append(mean_reward)\n",
    "ax.scatter(np.arange(len(rewards)),rewards)"
   ]
  },
  {
   "cell_type": "markdown",
   "metadata": {},
   "source": [
    "##### Listing 2.9"
   ]
  },
  {
   "cell_type": "code",
   "execution_count": 17,
   "metadata": {},
   "outputs": [],
   "source": [
    "class ContextBandit:\n",
    "    def __init__(self, arms=10):\n",
    "        self.arms = arms\n",
    "        self.init_distribution(arms)\n",
    "        self.update_state()\n",
    "    \n",
    "        \n",
    "    def init_distribution(self, arms):\n",
    "        # Num states = Num Arms to keep things simple\n",
    "        self.bandit_matrix = np.random.rand(arms,arms)\n",
    "        #each row represents a state, each column an arm\n",
    "        \n",
    "    def reward(self, prob):\n",
    "        reward = 0\n",
    "        for i in range(self.arms):\n",
    "            if random.random() < prob:\n",
    "                reward += 1\n",
    "        return reward\n",
    "        \n",
    "    def get_state(self):\n",
    "        return self.state\n",
    "\n",
    " \n",
    "    def update_state(self):\n",
    "        self.state = np.random.randint(0,self.arms)\n",
    "        \n",
    "    def get_reward(self,arm):\n",
    "        return self.reward(self.bandit_matrix[self.get_state()][arm])\n",
    "        \n",
    "    def choose_arm(self, arm):\n",
    "        reward = self.get_reward(arm)\n",
    "        self.update_state()\n",
    "        return reward"
   ]
  },
  {
   "cell_type": "code",
   "execution_count": 18,
   "metadata": {},
   "outputs": [],
   "source": [
    "import numpy as np\n",
    "import torch\n",
    "\n",
    "arms = 10\n",
    "N, D_in, H, D_out = 1, arms, 100, arms"
   ]
  },
  {
   "cell_type": "code",
   "execution_count": 22,
   "metadata": {},
   "outputs": [
    {
     "name": "stdout",
     "output_type": "stream",
     "text": [
      "3\n"
     ]
    }
   ],
   "source": [
    "env = ContextBandit(arms=10)\n",
    "state = env.get_state()\n",
    "reward = env.choose_arm(1)\n",
    "print(state)"
   ]
  },
  {
   "cell_type": "code",
   "execution_count": 23,
   "metadata": {},
   "outputs": [
    {
     "name": "stdout",
     "output_type": "stream",
     "text": [
      "[[0.14782249 0.80294078 0.18165399 0.8370778  0.3841247  0.52012827\n",
      "  0.47937979 0.6135016  0.06188844 0.04083542]\n",
      " [0.203594   0.44309212 0.86380097 0.97923932 0.60869017 0.55514241\n",
      "  0.40107757 0.88990805 0.25010104 0.50244966]\n",
      " [0.07793314 0.60849805 0.91370354 0.42327356 0.42862475 0.22507142\n",
      "  0.20238035 0.73924073 0.07302722 0.41439585]\n",
      " [0.6294054  0.17130059 0.07146028 0.43035993 0.05856569 0.4696678\n",
      "  0.95879861 0.30060096 0.76306742 0.727118  ]\n",
      " [0.53852893 0.28309388 0.95241797 0.18475525 0.33439572 0.19739486\n",
      "  0.26106165 0.37236072 0.37299332 0.39282079]\n",
      " [0.07009866 0.00490516 0.88103398 0.69916262 0.25230675 0.17238097\n",
      "  0.46995845 0.5686981  0.56200397 0.89746537]\n",
      " [0.61672122 0.45448447 0.72983023 0.72335133 0.40080272 0.94098942\n",
      "  0.90351905 0.39492678 0.29533973 0.79421558]\n",
      " [0.71012227 0.98813517 0.96936652 0.22900304 0.84620874 0.20574468\n",
      "  0.81157559 0.07637595 0.25091398 0.82931697]\n",
      " [0.59329315 0.38705014 0.64563853 0.34281049 0.23073837 0.04282118\n",
      "  0.77194025 0.28605896 0.77840476 0.94260204]\n",
      " [0.68279176 0.41248538 0.45538197 0.35346797 0.51322433 0.9889249\n",
      "  0.75464757 0.73521613 0.04483592 0.00639685]]\n",
      "1\n"
     ]
    }
   ],
   "source": [
    "print(env.bandit_matrix)\n",
    "print(env.get_state())"
   ]
  },
  {
   "cell_type": "code",
   "execution_count": 24,
   "metadata": {},
   "outputs": [],
   "source": [
    "model = torch.nn.Sequential(\n",
    "    torch.nn.Linear(D_in, H),\n",
    "    torch.nn.ReLU(),\n",
    "    torch.nn.Linear(H, D_out),\n",
    "    torch.nn.ReLU(),\n",
    ")"
   ]
  },
  {
   "cell_type": "code",
   "execution_count": 25,
   "metadata": {},
   "outputs": [],
   "source": [
    "loss_fn = torch.nn.MSELoss()"
   ]
  },
  {
   "cell_type": "code",
   "execution_count": 26,
   "metadata": {},
   "outputs": [],
   "source": [
    "env = ContextBandit(arms)"
   ]
  },
  {
   "cell_type": "code",
   "execution_count": 27,
   "metadata": {},
   "outputs": [],
   "source": [
    "def one_hot(N, pos, val=1):\n",
    "    one_hot_vec = np.zeros(N)\n",
    "    one_hot_vec[pos] = val\n",
    "    return one_hot_vec"
   ]
  },
  {
   "cell_type": "code",
   "execution_count": 38,
   "metadata": {},
   "outputs": [],
   "source": [
    "def running_mean(x,N=50):\n",
    "    c = x.shape[0] - N\n",
    "    y = np.zeros(c)\n",
    "    conv = np.ones(N)\n",
    "    for i in range(c):\n",
    "        # numpy는 @로 matrix multiplication을 수행함 \n",
    "        # y[i] = np.sum(x[i:i+N])/N # 아래식은 사실 이 코드와 같음\n",
    "        y[i] = (x[i:i+N] @ conv)/N\n",
    "        #print(\"x:\",x[i:i+N])\n",
    "        #print(\"conv:\",conv)\n",
    "        #print(\"y:\",y[i])\n",
    "    return y"
   ]
  },
  {
   "cell_type": "code",
   "execution_count": 31,
   "metadata": {},
   "outputs": [],
   "source": [
    "def train(env, epochs=5000, learning_rate=1e-2):\n",
    "    # 현재 state를 one-hot encoding으로 가져옴 \n",
    "    cur_state = torch.Tensor(one_hot(arms,env.get_state())) #A\n",
    "    optimizer = torch.optim.Adam(model.parameters(), lr=learning_rate)\n",
    "    rewards = []\n",
    "    for i in range(epochs):\n",
    "        y_pred = model(cur_state) #B\n",
    "        av_softmax = softmax(y_pred.data.numpy(), tau=2.0) #C\n",
    "        av_softmax /= av_softmax.sum() #D\n",
    "        choice = np.random.choice(arms, p=av_softmax) #E\n",
    "        cur_reward = env.choose_arm(choice) #F\n",
    "        one_hot_reward = y_pred.data.numpy().copy() #G\n",
    "        one_hot_reward[choice] = cur_reward #H\n",
    "        reward = torch.Tensor(one_hot_reward)\n",
    "        rewards.append(cur_reward)\n",
    "        loss = loss_fn(y_pred, reward)\n",
    "        optimizer.zero_grad()\n",
    "        loss.backward()\n",
    "        optimizer.step()\n",
    "        cur_state = torch.Tensor(one_hot(arms,env.get_state())) #I\n",
    "    return np.array(rewards)"
   ]
  },
  {
   "cell_type": "code",
   "execution_count": 32,
   "metadata": {},
   "outputs": [],
   "source": [
    "rewards = train(env)"
   ]
  },
  {
   "cell_type": "code",
   "execution_count": 39,
   "metadata": {},
   "outputs": [
    {
     "data": {
      "text/plain": [
       "[<matplotlib.lines.Line2D at 0x1e89a7d8190>]"
      ]
     },
     "execution_count": 39,
     "metadata": {},
     "output_type": "execute_result"
    },
    {
     "data": {
      "image/png": "[encoded data removed]",
      "text/plain": [
       "<Figure size 640x480 with 1 Axes>"
      ]
     },
     "metadata": {},
     "output_type": "display_data"
    }
   ],
   "source": [
    "plt.plot(running_mean(rewards,N=500))"
   ]
  },
  {
   "cell_type": "code",
   "execution_count": null,
   "metadata": {},
   "outputs": [],
   "source": []
  },
  {
   "cell_type": "code",
   "execution_count": null,
   "metadata": {},
   "outputs": [],
   "source": []
  }
 ],
 "metadata": {
  "kernelspec": {
   "display_name": "base",
   "language": "python",
   "name": "python3"
  },
  "language_info": {
   "codemirror_mode": {
    "name": "ipython",
    "version": 3
   },
   "file_extension": ".py",
   "mimetype": "text/x-python",
   "name": "python",
   "nbconvert_exporter": "python",
   "pygments_lexer": "ipython3",
   "version": "3.8.5"
  }
 },
 "nbformat": 4,
 "nbformat_minor": 2
}
